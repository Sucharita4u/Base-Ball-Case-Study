{
 "cells": [
  {
   "cell_type": "code",
   "execution_count": 1,
   "id": "f5fc4f46",
   "metadata": {},
   "outputs": [],
   "source": [
    "import numpy as np\n",
    "import pandas as pd\n",
    "import seaborn as sns\n",
    "import matplotlib.pyplot as plt\n",
    "import warnings\n",
    "warnings.filterwarnings('ignore')"
   ]
  },
  {
   "cell_type": "code",
   "execution_count": 2,
   "id": "064df572",
   "metadata": {},
   "outputs": [
    {
     "data": {
      "text/html": [
       "<div>\n",
       "<style scoped>\n",
       "    .dataframe tbody tr th:only-of-type {\n",
       "        vertical-align: middle;\n",
       "    }\n",
       "\n",
       "    .dataframe tbody tr th {\n",
       "        vertical-align: top;\n",
       "    }\n",
       "\n",
       "    .dataframe thead th {\n",
       "        text-align: right;\n",
       "    }\n",
       "</style>\n",
       "<table border=\"1\" class=\"dataframe\">\n",
       "  <thead>\n",
       "    <tr style=\"text-align: right;\">\n",
       "      <th></th>\n",
       "      <th>W</th>\n",
       "      <th>R</th>\n",
       "      <th>AB</th>\n",
       "      <th>H</th>\n",
       "      <th>2B</th>\n",
       "      <th>3B</th>\n",
       "      <th>HR</th>\n",
       "      <th>BB</th>\n",
       "      <th>SO</th>\n",
       "      <th>SB</th>\n",
       "      <th>RA</th>\n",
       "      <th>ER</th>\n",
       "      <th>ERA</th>\n",
       "      <th>CG</th>\n",
       "      <th>SHO</th>\n",
       "      <th>SV</th>\n",
       "      <th>E</th>\n",
       "    </tr>\n",
       "  </thead>\n",
       "  <tbody>\n",
       "    <tr>\n",
       "      <th>0</th>\n",
       "      <td>95</td>\n",
       "      <td>724</td>\n",
       "      <td>5575</td>\n",
       "      <td>1497</td>\n",
       "      <td>300</td>\n",
       "      <td>42</td>\n",
       "      <td>139</td>\n",
       "      <td>383</td>\n",
       "      <td>973</td>\n",
       "      <td>104</td>\n",
       "      <td>641</td>\n",
       "      <td>601</td>\n",
       "      <td>3.73</td>\n",
       "      <td>2</td>\n",
       "      <td>8</td>\n",
       "      <td>56</td>\n",
       "      <td>88</td>\n",
       "    </tr>\n",
       "    <tr>\n",
       "      <th>1</th>\n",
       "      <td>83</td>\n",
       "      <td>696</td>\n",
       "      <td>5467</td>\n",
       "      <td>1349</td>\n",
       "      <td>277</td>\n",
       "      <td>44</td>\n",
       "      <td>156</td>\n",
       "      <td>439</td>\n",
       "      <td>1264</td>\n",
       "      <td>70</td>\n",
       "      <td>700</td>\n",
       "      <td>653</td>\n",
       "      <td>4.07</td>\n",
       "      <td>2</td>\n",
       "      <td>12</td>\n",
       "      <td>45</td>\n",
       "      <td>86</td>\n",
       "    </tr>\n",
       "    <tr>\n",
       "      <th>2</th>\n",
       "      <td>81</td>\n",
       "      <td>669</td>\n",
       "      <td>5439</td>\n",
       "      <td>1395</td>\n",
       "      <td>303</td>\n",
       "      <td>29</td>\n",
       "      <td>141</td>\n",
       "      <td>533</td>\n",
       "      <td>1157</td>\n",
       "      <td>86</td>\n",
       "      <td>640</td>\n",
       "      <td>584</td>\n",
       "      <td>3.67</td>\n",
       "      <td>11</td>\n",
       "      <td>10</td>\n",
       "      <td>38</td>\n",
       "      <td>79</td>\n",
       "    </tr>\n",
       "    <tr>\n",
       "      <th>3</th>\n",
       "      <td>76</td>\n",
       "      <td>622</td>\n",
       "      <td>5533</td>\n",
       "      <td>1381</td>\n",
       "      <td>260</td>\n",
       "      <td>27</td>\n",
       "      <td>136</td>\n",
       "      <td>404</td>\n",
       "      <td>1231</td>\n",
       "      <td>68</td>\n",
       "      <td>701</td>\n",
       "      <td>643</td>\n",
       "      <td>3.98</td>\n",
       "      <td>7</td>\n",
       "      <td>9</td>\n",
       "      <td>37</td>\n",
       "      <td>101</td>\n",
       "    </tr>\n",
       "    <tr>\n",
       "      <th>4</th>\n",
       "      <td>74</td>\n",
       "      <td>689</td>\n",
       "      <td>5605</td>\n",
       "      <td>1515</td>\n",
       "      <td>289</td>\n",
       "      <td>49</td>\n",
       "      <td>151</td>\n",
       "      <td>455</td>\n",
       "      <td>1259</td>\n",
       "      <td>83</td>\n",
       "      <td>803</td>\n",
       "      <td>746</td>\n",
       "      <td>4.64</td>\n",
       "      <td>7</td>\n",
       "      <td>12</td>\n",
       "      <td>35</td>\n",
       "      <td>86</td>\n",
       "    </tr>\n",
       "    <tr>\n",
       "      <th>5</th>\n",
       "      <td>93</td>\n",
       "      <td>891</td>\n",
       "      <td>5509</td>\n",
       "      <td>1480</td>\n",
       "      <td>308</td>\n",
       "      <td>17</td>\n",
       "      <td>232</td>\n",
       "      <td>570</td>\n",
       "      <td>1151</td>\n",
       "      <td>88</td>\n",
       "      <td>670</td>\n",
       "      <td>609</td>\n",
       "      <td>3.80</td>\n",
       "      <td>7</td>\n",
       "      <td>10</td>\n",
       "      <td>34</td>\n",
       "      <td>88</td>\n",
       "    </tr>\n",
       "    <tr>\n",
       "      <th>6</th>\n",
       "      <td>87</td>\n",
       "      <td>764</td>\n",
       "      <td>5567</td>\n",
       "      <td>1397</td>\n",
       "      <td>272</td>\n",
       "      <td>19</td>\n",
       "      <td>212</td>\n",
       "      <td>554</td>\n",
       "      <td>1227</td>\n",
       "      <td>63</td>\n",
       "      <td>698</td>\n",
       "      <td>652</td>\n",
       "      <td>4.03</td>\n",
       "      <td>3</td>\n",
       "      <td>4</td>\n",
       "      <td>48</td>\n",
       "      <td>93</td>\n",
       "    </tr>\n",
       "    <tr>\n",
       "      <th>7</th>\n",
       "      <td>81</td>\n",
       "      <td>713</td>\n",
       "      <td>5485</td>\n",
       "      <td>1370</td>\n",
       "      <td>246</td>\n",
       "      <td>20</td>\n",
       "      <td>217</td>\n",
       "      <td>418</td>\n",
       "      <td>1331</td>\n",
       "      <td>44</td>\n",
       "      <td>693</td>\n",
       "      <td>646</td>\n",
       "      <td>4.05</td>\n",
       "      <td>0</td>\n",
       "      <td>10</td>\n",
       "      <td>43</td>\n",
       "      <td>77</td>\n",
       "    </tr>\n",
       "    <tr>\n",
       "      <th>8</th>\n",
       "      <td>80</td>\n",
       "      <td>644</td>\n",
       "      <td>5485</td>\n",
       "      <td>1383</td>\n",
       "      <td>278</td>\n",
       "      <td>32</td>\n",
       "      <td>167</td>\n",
       "      <td>436</td>\n",
       "      <td>1310</td>\n",
       "      <td>87</td>\n",
       "      <td>642</td>\n",
       "      <td>604</td>\n",
       "      <td>3.74</td>\n",
       "      <td>1</td>\n",
       "      <td>12</td>\n",
       "      <td>60</td>\n",
       "      <td>95</td>\n",
       "    </tr>\n",
       "    <tr>\n",
       "      <th>9</th>\n",
       "      <td>78</td>\n",
       "      <td>748</td>\n",
       "      <td>5640</td>\n",
       "      <td>1495</td>\n",
       "      <td>294</td>\n",
       "      <td>33</td>\n",
       "      <td>161</td>\n",
       "      <td>478</td>\n",
       "      <td>1148</td>\n",
       "      <td>71</td>\n",
       "      <td>753</td>\n",
       "      <td>694</td>\n",
       "      <td>4.31</td>\n",
       "      <td>3</td>\n",
       "      <td>10</td>\n",
       "      <td>40</td>\n",
       "      <td>97</td>\n",
       "    </tr>\n",
       "    <tr>\n",
       "      <th>10</th>\n",
       "      <td>88</td>\n",
       "      <td>751</td>\n",
       "      <td>5511</td>\n",
       "      <td>1419</td>\n",
       "      <td>279</td>\n",
       "      <td>32</td>\n",
       "      <td>172</td>\n",
       "      <td>503</td>\n",
       "      <td>1233</td>\n",
       "      <td>101</td>\n",
       "      <td>733</td>\n",
       "      <td>680</td>\n",
       "      <td>4.24</td>\n",
       "      <td>5</td>\n",
       "      <td>9</td>\n",
       "      <td>45</td>\n",
       "      <td>119</td>\n",
       "    </tr>\n",
       "    <tr>\n",
       "      <th>11</th>\n",
       "      <td>86</td>\n",
       "      <td>729</td>\n",
       "      <td>5459</td>\n",
       "      <td>1363</td>\n",
       "      <td>278</td>\n",
       "      <td>26</td>\n",
       "      <td>230</td>\n",
       "      <td>486</td>\n",
       "      <td>1392</td>\n",
       "      <td>121</td>\n",
       "      <td>618</td>\n",
       "      <td>572</td>\n",
       "      <td>3.57</td>\n",
       "      <td>5</td>\n",
       "      <td>13</td>\n",
       "      <td>39</td>\n",
       "      <td>85</td>\n",
       "    </tr>\n",
       "    <tr>\n",
       "      <th>12</th>\n",
       "      <td>85</td>\n",
       "      <td>661</td>\n",
       "      <td>5417</td>\n",
       "      <td>1331</td>\n",
       "      <td>243</td>\n",
       "      <td>21</td>\n",
       "      <td>176</td>\n",
       "      <td>435</td>\n",
       "      <td>1150</td>\n",
       "      <td>52</td>\n",
       "      <td>675</td>\n",
       "      <td>630</td>\n",
       "      <td>3.94</td>\n",
       "      <td>2</td>\n",
       "      <td>12</td>\n",
       "      <td>46</td>\n",
       "      <td>93</td>\n",
       "    </tr>\n",
       "    <tr>\n",
       "      <th>13</th>\n",
       "      <td>76</td>\n",
       "      <td>656</td>\n",
       "      <td>5544</td>\n",
       "      <td>1379</td>\n",
       "      <td>262</td>\n",
       "      <td>22</td>\n",
       "      <td>198</td>\n",
       "      <td>478</td>\n",
       "      <td>1336</td>\n",
       "      <td>69</td>\n",
       "      <td>726</td>\n",
       "      <td>677</td>\n",
       "      <td>4.16</td>\n",
       "      <td>6</td>\n",
       "      <td>12</td>\n",
       "      <td>45</td>\n",
       "      <td>94</td>\n",
       "    </tr>\n",
       "    <tr>\n",
       "      <th>14</th>\n",
       "      <td>68</td>\n",
       "      <td>694</td>\n",
       "      <td>5600</td>\n",
       "      <td>1405</td>\n",
       "      <td>277</td>\n",
       "      <td>46</td>\n",
       "      <td>146</td>\n",
       "      <td>475</td>\n",
       "      <td>1119</td>\n",
       "      <td>78</td>\n",
       "      <td>729</td>\n",
       "      <td>664</td>\n",
       "      <td>4.14</td>\n",
       "      <td>5</td>\n",
       "      <td>15</td>\n",
       "      <td>28</td>\n",
       "      <td>126</td>\n",
       "    </tr>\n",
       "    <tr>\n",
       "      <th>15</th>\n",
       "      <td>100</td>\n",
       "      <td>647</td>\n",
       "      <td>5484</td>\n",
       "      <td>1386</td>\n",
       "      <td>288</td>\n",
       "      <td>39</td>\n",
       "      <td>137</td>\n",
       "      <td>506</td>\n",
       "      <td>1267</td>\n",
       "      <td>69</td>\n",
       "      <td>525</td>\n",
       "      <td>478</td>\n",
       "      <td>2.94</td>\n",
       "      <td>1</td>\n",
       "      <td>15</td>\n",
       "      <td>62</td>\n",
       "      <td>96</td>\n",
       "    </tr>\n",
       "    <tr>\n",
       "      <th>16</th>\n",
       "      <td>98</td>\n",
       "      <td>697</td>\n",
       "      <td>5631</td>\n",
       "      <td>1462</td>\n",
       "      <td>292</td>\n",
       "      <td>27</td>\n",
       "      <td>140</td>\n",
       "      <td>461</td>\n",
       "      <td>1322</td>\n",
       "      <td>98</td>\n",
       "      <td>596</td>\n",
       "      <td>532</td>\n",
       "      <td>3.21</td>\n",
       "      <td>0</td>\n",
       "      <td>13</td>\n",
       "      <td>54</td>\n",
       "      <td>122</td>\n",
       "    </tr>\n",
       "    <tr>\n",
       "      <th>17</th>\n",
       "      <td>97</td>\n",
       "      <td>689</td>\n",
       "      <td>5491</td>\n",
       "      <td>1341</td>\n",
       "      <td>272</td>\n",
       "      <td>30</td>\n",
       "      <td>171</td>\n",
       "      <td>567</td>\n",
       "      <td>1518</td>\n",
       "      <td>95</td>\n",
       "      <td>608</td>\n",
       "      <td>546</td>\n",
       "      <td>3.36</td>\n",
       "      <td>6</td>\n",
       "      <td>21</td>\n",
       "      <td>48</td>\n",
       "      <td>111</td>\n",
       "    </tr>\n",
       "    <tr>\n",
       "      <th>18</th>\n",
       "      <td>68</td>\n",
       "      <td>655</td>\n",
       "      <td>5480</td>\n",
       "      <td>1378</td>\n",
       "      <td>274</td>\n",
       "      <td>34</td>\n",
       "      <td>145</td>\n",
       "      <td>412</td>\n",
       "      <td>1299</td>\n",
       "      <td>84</td>\n",
       "      <td>737</td>\n",
       "      <td>682</td>\n",
       "      <td>4.28</td>\n",
       "      <td>1</td>\n",
       "      <td>7</td>\n",
       "      <td>40</td>\n",
       "      <td>116</td>\n",
       "    </tr>\n",
       "    <tr>\n",
       "      <th>19</th>\n",
       "      <td>64</td>\n",
       "      <td>640</td>\n",
       "      <td>5571</td>\n",
       "      <td>1382</td>\n",
       "      <td>257</td>\n",
       "      <td>27</td>\n",
       "      <td>167</td>\n",
       "      <td>496</td>\n",
       "      <td>1255</td>\n",
       "      <td>134</td>\n",
       "      <td>754</td>\n",
       "      <td>700</td>\n",
       "      <td>4.33</td>\n",
       "      <td>2</td>\n",
       "      <td>8</td>\n",
       "      <td>35</td>\n",
       "      <td>90</td>\n",
       "    </tr>\n",
       "    <tr>\n",
       "      <th>20</th>\n",
       "      <td>90</td>\n",
       "      <td>683</td>\n",
       "      <td>5527</td>\n",
       "      <td>1351</td>\n",
       "      <td>295</td>\n",
       "      <td>17</td>\n",
       "      <td>177</td>\n",
       "      <td>488</td>\n",
       "      <td>1290</td>\n",
       "      <td>51</td>\n",
       "      <td>613</td>\n",
       "      <td>557</td>\n",
       "      <td>3.43</td>\n",
       "      <td>1</td>\n",
       "      <td>14</td>\n",
       "      <td>50</td>\n",
       "      <td>88</td>\n",
       "    </tr>\n",
       "    <tr>\n",
       "      <th>21</th>\n",
       "      <td>83</td>\n",
       "      <td>703</td>\n",
       "      <td>5428</td>\n",
       "      <td>1363</td>\n",
       "      <td>265</td>\n",
       "      <td>13</td>\n",
       "      <td>177</td>\n",
       "      <td>539</td>\n",
       "      <td>1344</td>\n",
       "      <td>57</td>\n",
       "      <td>635</td>\n",
       "      <td>577</td>\n",
       "      <td>3.62</td>\n",
       "      <td>4</td>\n",
       "      <td>13</td>\n",
       "      <td>41</td>\n",
       "      <td>90</td>\n",
       "    </tr>\n",
       "    <tr>\n",
       "      <th>22</th>\n",
       "      <td>71</td>\n",
       "      <td>613</td>\n",
       "      <td>5463</td>\n",
       "      <td>1420</td>\n",
       "      <td>236</td>\n",
       "      <td>40</td>\n",
       "      <td>120</td>\n",
       "      <td>375</td>\n",
       "      <td>1150</td>\n",
       "      <td>112</td>\n",
       "      <td>678</td>\n",
       "      <td>638</td>\n",
       "      <td>4.02</td>\n",
       "      <td>0</td>\n",
       "      <td>12</td>\n",
       "      <td>35</td>\n",
       "      <td>77</td>\n",
       "    </tr>\n",
       "    <tr>\n",
       "      <th>23</th>\n",
       "      <td>67</td>\n",
       "      <td>573</td>\n",
       "      <td>5420</td>\n",
       "      <td>1361</td>\n",
       "      <td>251</td>\n",
       "      <td>18</td>\n",
       "      <td>100</td>\n",
       "      <td>471</td>\n",
       "      <td>1107</td>\n",
       "      <td>69</td>\n",
       "      <td>760</td>\n",
       "      <td>698</td>\n",
       "      <td>4.41</td>\n",
       "      <td>3</td>\n",
       "      <td>10</td>\n",
       "      <td>44</td>\n",
       "      <td>90</td>\n",
       "    </tr>\n",
       "    <tr>\n",
       "      <th>24</th>\n",
       "      <td>63</td>\n",
       "      <td>626</td>\n",
       "      <td>5529</td>\n",
       "      <td>1374</td>\n",
       "      <td>272</td>\n",
       "      <td>37</td>\n",
       "      <td>130</td>\n",
       "      <td>387</td>\n",
       "      <td>1274</td>\n",
       "      <td>88</td>\n",
       "      <td>809</td>\n",
       "      <td>749</td>\n",
       "      <td>4.69</td>\n",
       "      <td>1</td>\n",
       "      <td>7</td>\n",
       "      <td>35</td>\n",
       "      <td>117</td>\n",
       "    </tr>\n",
       "    <tr>\n",
       "      <th>25</th>\n",
       "      <td>92</td>\n",
       "      <td>667</td>\n",
       "      <td>5385</td>\n",
       "      <td>1346</td>\n",
       "      <td>263</td>\n",
       "      <td>26</td>\n",
       "      <td>187</td>\n",
       "      <td>563</td>\n",
       "      <td>1258</td>\n",
       "      <td>59</td>\n",
       "      <td>595</td>\n",
       "      <td>553</td>\n",
       "      <td>3.44</td>\n",
       "      <td>6</td>\n",
       "      <td>21</td>\n",
       "      <td>47</td>\n",
       "      <td>75</td>\n",
       "    </tr>\n",
       "    <tr>\n",
       "      <th>26</th>\n",
       "      <td>84</td>\n",
       "      <td>696</td>\n",
       "      <td>5565</td>\n",
       "      <td>1486</td>\n",
       "      <td>288</td>\n",
       "      <td>39</td>\n",
       "      <td>136</td>\n",
       "      <td>457</td>\n",
       "      <td>1159</td>\n",
       "      <td>93</td>\n",
       "      <td>627</td>\n",
       "      <td>597</td>\n",
       "      <td>3.72</td>\n",
       "      <td>7</td>\n",
       "      <td>18</td>\n",
       "      <td>41</td>\n",
       "      <td>78</td>\n",
       "    </tr>\n",
       "    <tr>\n",
       "      <th>27</th>\n",
       "      <td>79</td>\n",
       "      <td>720</td>\n",
       "      <td>5649</td>\n",
       "      <td>1494</td>\n",
       "      <td>289</td>\n",
       "      <td>48</td>\n",
       "      <td>154</td>\n",
       "      <td>490</td>\n",
       "      <td>1312</td>\n",
       "      <td>132</td>\n",
       "      <td>713</td>\n",
       "      <td>659</td>\n",
       "      <td>4.04</td>\n",
       "      <td>1</td>\n",
       "      <td>12</td>\n",
       "      <td>44</td>\n",
       "      <td>86</td>\n",
       "    </tr>\n",
       "    <tr>\n",
       "      <th>28</th>\n",
       "      <td>74</td>\n",
       "      <td>650</td>\n",
       "      <td>5457</td>\n",
       "      <td>1324</td>\n",
       "      <td>260</td>\n",
       "      <td>36</td>\n",
       "      <td>148</td>\n",
       "      <td>426</td>\n",
       "      <td>1327</td>\n",
       "      <td>82</td>\n",
       "      <td>731</td>\n",
       "      <td>655</td>\n",
       "      <td>4.09</td>\n",
       "      <td>1</td>\n",
       "      <td>6</td>\n",
       "      <td>41</td>\n",
       "      <td>92</td>\n",
       "    </tr>\n",
       "    <tr>\n",
       "      <th>29</th>\n",
       "      <td>68</td>\n",
       "      <td>737</td>\n",
       "      <td>5572</td>\n",
       "      <td>1479</td>\n",
       "      <td>274</td>\n",
       "      <td>49</td>\n",
       "      <td>186</td>\n",
       "      <td>388</td>\n",
       "      <td>1283</td>\n",
       "      <td>97</td>\n",
       "      <td>844</td>\n",
       "      <td>799</td>\n",
       "      <td>5.04</td>\n",
       "      <td>4</td>\n",
       "      <td>4</td>\n",
       "      <td>36</td>\n",
       "      <td>95</td>\n",
       "    </tr>\n",
       "  </tbody>\n",
       "</table>\n",
       "</div>"
      ],
      "text/plain": [
       "      W    R    AB     H   2B  3B   HR   BB    SO   SB   RA   ER   ERA  CG  \\\n",
       "0    95  724  5575  1497  300  42  139  383   973  104  641  601  3.73   2   \n",
       "1    83  696  5467  1349  277  44  156  439  1264   70  700  653  4.07   2   \n",
       "2    81  669  5439  1395  303  29  141  533  1157   86  640  584  3.67  11   \n",
       "3    76  622  5533  1381  260  27  136  404  1231   68  701  643  3.98   7   \n",
       "4    74  689  5605  1515  289  49  151  455  1259   83  803  746  4.64   7   \n",
       "5    93  891  5509  1480  308  17  232  570  1151   88  670  609  3.80   7   \n",
       "6    87  764  5567  1397  272  19  212  554  1227   63  698  652  4.03   3   \n",
       "7    81  713  5485  1370  246  20  217  418  1331   44  693  646  4.05   0   \n",
       "8    80  644  5485  1383  278  32  167  436  1310   87  642  604  3.74   1   \n",
       "9    78  748  5640  1495  294  33  161  478  1148   71  753  694  4.31   3   \n",
       "10   88  751  5511  1419  279  32  172  503  1233  101  733  680  4.24   5   \n",
       "11   86  729  5459  1363  278  26  230  486  1392  121  618  572  3.57   5   \n",
       "12   85  661  5417  1331  243  21  176  435  1150   52  675  630  3.94   2   \n",
       "13   76  656  5544  1379  262  22  198  478  1336   69  726  677  4.16   6   \n",
       "14   68  694  5600  1405  277  46  146  475  1119   78  729  664  4.14   5   \n",
       "15  100  647  5484  1386  288  39  137  506  1267   69  525  478  2.94   1   \n",
       "16   98  697  5631  1462  292  27  140  461  1322   98  596  532  3.21   0   \n",
       "17   97  689  5491  1341  272  30  171  567  1518   95  608  546  3.36   6   \n",
       "18   68  655  5480  1378  274  34  145  412  1299   84  737  682  4.28   1   \n",
       "19   64  640  5571  1382  257  27  167  496  1255  134  754  700  4.33   2   \n",
       "20   90  683  5527  1351  295  17  177  488  1290   51  613  557  3.43   1   \n",
       "21   83  703  5428  1363  265  13  177  539  1344   57  635  577  3.62   4   \n",
       "22   71  613  5463  1420  236  40  120  375  1150  112  678  638  4.02   0   \n",
       "23   67  573  5420  1361  251  18  100  471  1107   69  760  698  4.41   3   \n",
       "24   63  626  5529  1374  272  37  130  387  1274   88  809  749  4.69   1   \n",
       "25   92  667  5385  1346  263  26  187  563  1258   59  595  553  3.44   6   \n",
       "26   84  696  5565  1486  288  39  136  457  1159   93  627  597  3.72   7   \n",
       "27   79  720  5649  1494  289  48  154  490  1312  132  713  659  4.04   1   \n",
       "28   74  650  5457  1324  260  36  148  426  1327   82  731  655  4.09   1   \n",
       "29   68  737  5572  1479  274  49  186  388  1283   97  844  799  5.04   4   \n",
       "\n",
       "    SHO  SV    E  \n",
       "0     8  56   88  \n",
       "1    12  45   86  \n",
       "2    10  38   79  \n",
       "3     9  37  101  \n",
       "4    12  35   86  \n",
       "5    10  34   88  \n",
       "6     4  48   93  \n",
       "7    10  43   77  \n",
       "8    12  60   95  \n",
       "9    10  40   97  \n",
       "10    9  45  119  \n",
       "11   13  39   85  \n",
       "12   12  46   93  \n",
       "13   12  45   94  \n",
       "14   15  28  126  \n",
       "15   15  62   96  \n",
       "16   13  54  122  \n",
       "17   21  48  111  \n",
       "18    7  40  116  \n",
       "19    8  35   90  \n",
       "20   14  50   88  \n",
       "21   13  41   90  \n",
       "22   12  35   77  \n",
       "23   10  44   90  \n",
       "24    7  35  117  \n",
       "25   21  47   75  \n",
       "26   18  41   78  \n",
       "27   12  44   86  \n",
       "28    6  41   92  \n",
       "29    4  36   95  "
      ]
     },
     "execution_count": 2,
     "metadata": {},
     "output_type": "execute_result"
    }
   ],
   "source": [
    "df=pd.read_csv('baseball.csv')\n",
    "df"
   ]
  },
  {
   "cell_type": "code",
   "execution_count": 3,
   "id": "931bacbf",
   "metadata": {},
   "outputs": [
    {
     "data": {
      "text/plain": [
       "Index(['W', 'R', 'AB', 'H', '2B', '3B', 'HR', 'BB', 'SO', 'SB', 'RA', 'ER',\n",
       "       'ERA', 'CG', 'SHO', 'SV', 'E'],\n",
       "      dtype='object')"
      ]
     },
     "execution_count": 3,
     "metadata": {},
     "output_type": "execute_result"
    }
   ],
   "source": [
    "df.columns"
   ]
  },
  {
   "cell_type": "code",
   "execution_count": 4,
   "id": "07cc86d2",
   "metadata": {},
   "outputs": [
    {
     "data": {
      "text/html": [
       "<div>\n",
       "<style scoped>\n",
       "    .dataframe tbody tr th:only-of-type {\n",
       "        vertical-align: middle;\n",
       "    }\n",
       "\n",
       "    .dataframe tbody tr th {\n",
       "        vertical-align: top;\n",
       "    }\n",
       "\n",
       "    .dataframe thead th {\n",
       "        text-align: right;\n",
       "    }\n",
       "</style>\n",
       "<table border=\"1\" class=\"dataframe\">\n",
       "  <thead>\n",
       "    <tr style=\"text-align: right;\">\n",
       "      <th></th>\n",
       "      <th>W</th>\n",
       "      <th>R</th>\n",
       "      <th>AB</th>\n",
       "      <th>H</th>\n",
       "      <th>2B</th>\n",
       "      <th>3B</th>\n",
       "      <th>HR</th>\n",
       "      <th>BB</th>\n",
       "      <th>SO</th>\n",
       "      <th>SB</th>\n",
       "      <th>RA</th>\n",
       "      <th>ER</th>\n",
       "      <th>ERA</th>\n",
       "      <th>CG</th>\n",
       "      <th>SHO</th>\n",
       "      <th>SV</th>\n",
       "      <th>E</th>\n",
       "    </tr>\n",
       "  </thead>\n",
       "  <tbody>\n",
       "    <tr>\n",
       "      <th>0</th>\n",
       "      <td>95</td>\n",
       "      <td>724</td>\n",
       "      <td>5575</td>\n",
       "      <td>1497</td>\n",
       "      <td>300</td>\n",
       "      <td>42</td>\n",
       "      <td>139</td>\n",
       "      <td>383</td>\n",
       "      <td>973</td>\n",
       "      <td>104</td>\n",
       "      <td>641</td>\n",
       "      <td>601</td>\n",
       "      <td>3.73</td>\n",
       "      <td>2</td>\n",
       "      <td>8</td>\n",
       "      <td>56</td>\n",
       "      <td>88</td>\n",
       "    </tr>\n",
       "    <tr>\n",
       "      <th>1</th>\n",
       "      <td>83</td>\n",
       "      <td>696</td>\n",
       "      <td>5467</td>\n",
       "      <td>1349</td>\n",
       "      <td>277</td>\n",
       "      <td>44</td>\n",
       "      <td>156</td>\n",
       "      <td>439</td>\n",
       "      <td>1264</td>\n",
       "      <td>70</td>\n",
       "      <td>700</td>\n",
       "      <td>653</td>\n",
       "      <td>4.07</td>\n",
       "      <td>2</td>\n",
       "      <td>12</td>\n",
       "      <td>45</td>\n",
       "      <td>86</td>\n",
       "    </tr>\n",
       "    <tr>\n",
       "      <th>2</th>\n",
       "      <td>81</td>\n",
       "      <td>669</td>\n",
       "      <td>5439</td>\n",
       "      <td>1395</td>\n",
       "      <td>303</td>\n",
       "      <td>29</td>\n",
       "      <td>141</td>\n",
       "      <td>533</td>\n",
       "      <td>1157</td>\n",
       "      <td>86</td>\n",
       "      <td>640</td>\n",
       "      <td>584</td>\n",
       "      <td>3.67</td>\n",
       "      <td>11</td>\n",
       "      <td>10</td>\n",
       "      <td>38</td>\n",
       "      <td>79</td>\n",
       "    </tr>\n",
       "    <tr>\n",
       "      <th>3</th>\n",
       "      <td>76</td>\n",
       "      <td>622</td>\n",
       "      <td>5533</td>\n",
       "      <td>1381</td>\n",
       "      <td>260</td>\n",
       "      <td>27</td>\n",
       "      <td>136</td>\n",
       "      <td>404</td>\n",
       "      <td>1231</td>\n",
       "      <td>68</td>\n",
       "      <td>701</td>\n",
       "      <td>643</td>\n",
       "      <td>3.98</td>\n",
       "      <td>7</td>\n",
       "      <td>9</td>\n",
       "      <td>37</td>\n",
       "      <td>101</td>\n",
       "    </tr>\n",
       "    <tr>\n",
       "      <th>4</th>\n",
       "      <td>74</td>\n",
       "      <td>689</td>\n",
       "      <td>5605</td>\n",
       "      <td>1515</td>\n",
       "      <td>289</td>\n",
       "      <td>49</td>\n",
       "      <td>151</td>\n",
       "      <td>455</td>\n",
       "      <td>1259</td>\n",
       "      <td>83</td>\n",
       "      <td>803</td>\n",
       "      <td>746</td>\n",
       "      <td>4.64</td>\n",
       "      <td>7</td>\n",
       "      <td>12</td>\n",
       "      <td>35</td>\n",
       "      <td>86</td>\n",
       "    </tr>\n",
       "    <tr>\n",
       "      <th>5</th>\n",
       "      <td>93</td>\n",
       "      <td>891</td>\n",
       "      <td>5509</td>\n",
       "      <td>1480</td>\n",
       "      <td>308</td>\n",
       "      <td>17</td>\n",
       "      <td>232</td>\n",
       "      <td>570</td>\n",
       "      <td>1151</td>\n",
       "      <td>88</td>\n",
       "      <td>670</td>\n",
       "      <td>609</td>\n",
       "      <td>3.80</td>\n",
       "      <td>7</td>\n",
       "      <td>10</td>\n",
       "      <td>34</td>\n",
       "      <td>88</td>\n",
       "    </tr>\n",
       "    <tr>\n",
       "      <th>6</th>\n",
       "      <td>87</td>\n",
       "      <td>764</td>\n",
       "      <td>5567</td>\n",
       "      <td>1397</td>\n",
       "      <td>272</td>\n",
       "      <td>19</td>\n",
       "      <td>212</td>\n",
       "      <td>554</td>\n",
       "      <td>1227</td>\n",
       "      <td>63</td>\n",
       "      <td>698</td>\n",
       "      <td>652</td>\n",
       "      <td>4.03</td>\n",
       "      <td>3</td>\n",
       "      <td>4</td>\n",
       "      <td>48</td>\n",
       "      <td>93</td>\n",
       "    </tr>\n",
       "    <tr>\n",
       "      <th>7</th>\n",
       "      <td>81</td>\n",
       "      <td>713</td>\n",
       "      <td>5485</td>\n",
       "      <td>1370</td>\n",
       "      <td>246</td>\n",
       "      <td>20</td>\n",
       "      <td>217</td>\n",
       "      <td>418</td>\n",
       "      <td>1331</td>\n",
       "      <td>44</td>\n",
       "      <td>693</td>\n",
       "      <td>646</td>\n",
       "      <td>4.05</td>\n",
       "      <td>0</td>\n",
       "      <td>10</td>\n",
       "      <td>43</td>\n",
       "      <td>77</td>\n",
       "    </tr>\n",
       "    <tr>\n",
       "      <th>8</th>\n",
       "      <td>80</td>\n",
       "      <td>644</td>\n",
       "      <td>5485</td>\n",
       "      <td>1383</td>\n",
       "      <td>278</td>\n",
       "      <td>32</td>\n",
       "      <td>167</td>\n",
       "      <td>436</td>\n",
       "      <td>1310</td>\n",
       "      <td>87</td>\n",
       "      <td>642</td>\n",
       "      <td>604</td>\n",
       "      <td>3.74</td>\n",
       "      <td>1</td>\n",
       "      <td>12</td>\n",
       "      <td>60</td>\n",
       "      <td>95</td>\n",
       "    </tr>\n",
       "    <tr>\n",
       "      <th>9</th>\n",
       "      <td>78</td>\n",
       "      <td>748</td>\n",
       "      <td>5640</td>\n",
       "      <td>1495</td>\n",
       "      <td>294</td>\n",
       "      <td>33</td>\n",
       "      <td>161</td>\n",
       "      <td>478</td>\n",
       "      <td>1148</td>\n",
       "      <td>71</td>\n",
       "      <td>753</td>\n",
       "      <td>694</td>\n",
       "      <td>4.31</td>\n",
       "      <td>3</td>\n",
       "      <td>10</td>\n",
       "      <td>40</td>\n",
       "      <td>97</td>\n",
       "    </tr>\n",
       "  </tbody>\n",
       "</table>\n",
       "</div>"
      ],
      "text/plain": [
       "    W    R    AB     H   2B  3B   HR   BB    SO   SB   RA   ER   ERA  CG  SHO  \\\n",
       "0  95  724  5575  1497  300  42  139  383   973  104  641  601  3.73   2    8   \n",
       "1  83  696  5467  1349  277  44  156  439  1264   70  700  653  4.07   2   12   \n",
       "2  81  669  5439  1395  303  29  141  533  1157   86  640  584  3.67  11   10   \n",
       "3  76  622  5533  1381  260  27  136  404  1231   68  701  643  3.98   7    9   \n",
       "4  74  689  5605  1515  289  49  151  455  1259   83  803  746  4.64   7   12   \n",
       "5  93  891  5509  1480  308  17  232  570  1151   88  670  609  3.80   7   10   \n",
       "6  87  764  5567  1397  272  19  212  554  1227   63  698  652  4.03   3    4   \n",
       "7  81  713  5485  1370  246  20  217  418  1331   44  693  646  4.05   0   10   \n",
       "8  80  644  5485  1383  278  32  167  436  1310   87  642  604  3.74   1   12   \n",
       "9  78  748  5640  1495  294  33  161  478  1148   71  753  694  4.31   3   10   \n",
       "\n",
       "   SV    E  \n",
       "0  56   88  \n",
       "1  45   86  \n",
       "2  38   79  \n",
       "3  37  101  \n",
       "4  35   86  \n",
       "5  34   88  \n",
       "6  48   93  \n",
       "7  43   77  \n",
       "8  60   95  \n",
       "9  40   97  "
      ]
     },
     "execution_count": 4,
     "metadata": {},
     "output_type": "execute_result"
    }
   ],
   "source": [
    "df.head(10)"
   ]
  },
  {
   "cell_type": "code",
   "execution_count": 5,
   "id": "29aee540",
   "metadata": {},
   "outputs": [
    {
     "data": {
      "text/plain": [
       "(30, 17)"
      ]
     },
     "execution_count": 5,
     "metadata": {},
     "output_type": "execute_result"
    }
   ],
   "source": [
    "df.shape"
   ]
  },
  {
   "cell_type": "markdown",
   "id": "6a900355",
   "metadata": {},
   "source": [
    "# Checking NULL/MISSING Values"
   ]
  },
  {
   "cell_type": "code",
   "execution_count": 6,
   "id": "131688ff",
   "metadata": {},
   "outputs": [
    {
     "data": {
      "text/plain": [
       "W      0\n",
       "R      0\n",
       "AB     0\n",
       "H      0\n",
       "2B     0\n",
       "3B     0\n",
       "HR     0\n",
       "BB     0\n",
       "SO     0\n",
       "SB     0\n",
       "RA     0\n",
       "ER     0\n",
       "ERA    0\n",
       "CG     0\n",
       "SHO    0\n",
       "SV     0\n",
       "E      0\n",
       "dtype: int64"
      ]
     },
     "execution_count": 6,
     "metadata": {},
     "output_type": "execute_result"
    }
   ],
   "source": [
    "df.isnull().sum()"
   ]
  },
  {
   "cell_type": "markdown",
   "id": "01d79fa2",
   "metadata": {},
   "source": [
    "No null Vlaues in Dataset"
   ]
  },
  {
   "cell_type": "markdown",
   "id": "699bb670",
   "metadata": {},
   "source": [
    "# Description of the given data:"
   ]
  },
  {
   "cell_type": "markdown",
   "id": "e5d8d08f",
   "metadata": {},
   "source": [
    "Problem Statement:"
   ]
  },
  {
   "cell_type": "markdown",
   "id": "432ceb8f",
   "metadata": {},
   "source": [
    "This dataset utilizes data from 2014 Major League Baseball seasons in order to develop an algorithm that predicts the number of wins for a given team in the 2015 season based on several different indicators of success. There are 16 different features that will be used as the inputs to the machine learning and the output will be a value that represents the number of wins.\n",
    "\n"
   ]
  },
  {
   "cell_type": "markdown",
   "id": "25f57bac",
   "metadata": {},
   "source": [
    "Input features:"
   ]
  },
  {
   "cell_type": "markdown",
   "id": "cbc28bb1",
   "metadata": {},
   "source": [
    "R – Runs scored: number of times a player crosses home plate\n",
    "\n",
    "AB – At bat: plate appearances, not including bases on balls, being hit by pitch, sacrifices, interference, or obstruction\n",
    "\n",
    "H – Hit: reaching base because of a batted, fair ball without error by the defense\n",
    "\n",
    "2B – Double: hits on which the batter reaches second base safely without the contribution of a fielding error\n",
    "\n",
    "3B – Triple: hits on which the batter reaches third base safely without the contribution of a fielding error\n",
    "\n",
    "HR – Home runs: hits on which the batter successfully touched all four bases, without the contribution of a fielding error\n",
    "\n",
    "BB – Base on balls (also called a \"walk\"): hitter not swinging at four pitches called out of the strike zone and awarded first base.\n",
    "\n",
    "SO – Strike out: number of times that a third strike is taken or swung at and missed, or bunted foul. Catcher must catch the third strike or batter may attempt to run to first base.\n",
    "\n",
    "SB – Stolen base: number of bases advanced by the runner while the ball is in the possession of the defense\n",
    "\n",
    "RA – Run average: number of runs allowed times nine divided by innings pitched\n",
    "\n",
    "    \n",
    "ER – Earned run: number of runs that did not occur as a result of errors or passed balls\n",
    "\n",
    "ERA – Earned run average: total number of earned runs (see \"ER\" above), multiplied by 9, divided by innings pitched\n",
    "\n",
    "CG – Complete game: number of games where player was the only pitcher for their team\n",
    "\n",
    "SHO – Shutout: number of complete games pitched with no runs allowed\n",
    "\n",
    "SV – Save: number of games where the pitcher enters a game led by the pitcher's team, finishes the game without surrendering the lead, is not the winning pitcher, and either (a) the lead was three runs or fewer when the pitcher entered the game; (b) the potential tying run was on base, at bat, or on deck; or (c) the pitcher pitched three or more innings\n",
    "\n",
    "E – Errors: number of times a fielder fails to make a play he should have made with common effort, and the offense benefits as a result\n",
    "\n",
    "    \n"
   ]
  },
  {
   "cell_type": "markdown",
   "id": "e0ffd059",
   "metadata": {},
   "source": [
    "OUTPUT:"
   ]
  },
  {
   "cell_type": "markdown",
   "id": "3561b810",
   "metadata": {},
   "source": [
    "W – Win: number of games where pitcher was pitching while their team took the lead and went on to win, also the starter needs to pitch at least 5 innings of work (also related: winning percentage)"
   ]
  },
  {
   "cell_type": "markdown",
   "id": "2b532a35",
   "metadata": {},
   "source": [
    "# EDA OF DATASETS:"
   ]
  },
  {
   "cell_type": "code",
   "execution_count": 7,
   "id": "6fce204f",
   "metadata": {},
   "outputs": [
    {
     "name": "stdout",
     "output_type": "stream",
     "text": [
      "<class 'pandas.core.frame.DataFrame'>\n",
      "RangeIndex: 30 entries, 0 to 29\n",
      "Data columns (total 17 columns):\n",
      " #   Column  Non-Null Count  Dtype  \n",
      "---  ------  --------------  -----  \n",
      " 0   W       30 non-null     int64  \n",
      " 1   R       30 non-null     int64  \n",
      " 2   AB      30 non-null     int64  \n",
      " 3   H       30 non-null     int64  \n",
      " 4   2B      30 non-null     int64  \n",
      " 5   3B      30 non-null     int64  \n",
      " 6   HR      30 non-null     int64  \n",
      " 7   BB      30 non-null     int64  \n",
      " 8   SO      30 non-null     int64  \n",
      " 9   SB      30 non-null     int64  \n",
      " 10  RA      30 non-null     int64  \n",
      " 11  ER      30 non-null     int64  \n",
      " 12  ERA     30 non-null     float64\n",
      " 13  CG      30 non-null     int64  \n",
      " 14  SHO     30 non-null     int64  \n",
      " 15  SV      30 non-null     int64  \n",
      " 16  E       30 non-null     int64  \n",
      "dtypes: float64(1), int64(16)\n",
      "memory usage: 4.1 KB\n"
     ]
    }
   ],
   "source": [
    "df.info()"
   ]
  },
  {
   "cell_type": "markdown",
   "id": "818cd1ec",
   "metadata": {},
   "source": [
    "Dataset has all columns as continuous data:\n"
   ]
  },
  {
   "cell_type": "code",
   "execution_count": 8,
   "id": "5b007660",
   "metadata": {},
   "outputs": [
    {
     "data": {
      "text/plain": [
       "W        int64\n",
       "R        int64\n",
       "AB       int64\n",
       "H        int64\n",
       "2B       int64\n",
       "3B       int64\n",
       "HR       int64\n",
       "BB       int64\n",
       "SO       int64\n",
       "SB       int64\n",
       "RA       int64\n",
       "ER       int64\n",
       "ERA    float64\n",
       "CG       int64\n",
       "SHO      int64\n",
       "SV       int64\n",
       "E        int64\n",
       "dtype: object"
      ]
     },
     "execution_count": 8,
     "metadata": {},
     "output_type": "execute_result"
    }
   ],
   "source": [
    "df.dtypes"
   ]
  },
  {
   "cell_type": "code",
   "execution_count": 9,
   "id": "59f4e263",
   "metadata": {},
   "outputs": [
    {
     "data": {
      "text/plain": [
       "0     False\n",
       "1     False\n",
       "2     False\n",
       "3     False\n",
       "4     False\n",
       "5     False\n",
       "6     False\n",
       "7     False\n",
       "8     False\n",
       "9     False\n",
       "10    False\n",
       "11    False\n",
       "12    False\n",
       "13    False\n",
       "14    False\n",
       "15    False\n",
       "16    False\n",
       "17    False\n",
       "18    False\n",
       "19    False\n",
       "20    False\n",
       "21    False\n",
       "22    False\n",
       "23    False\n",
       "24    False\n",
       "25    False\n",
       "26    False\n",
       "27    False\n",
       "28    False\n",
       "29    False\n",
       "dtype: bool"
      ]
     },
     "execution_count": 9,
     "metadata": {},
     "output_type": "execute_result"
    }
   ],
   "source": [
    "df.duplicated()"
   ]
  },
  {
   "cell_type": "markdown",
   "id": "ce1a6498",
   "metadata": {},
   "source": [
    "NO duplicate Value in Datasets"
   ]
  },
  {
   "cell_type": "code",
   "execution_count": 10,
   "id": "a9616f5f",
   "metadata": {},
   "outputs": [
    {
     "data": {
      "text/html": [
       "<div>\n",
       "<style scoped>\n",
       "    .dataframe tbody tr th:only-of-type {\n",
       "        vertical-align: middle;\n",
       "    }\n",
       "\n",
       "    .dataframe tbody tr th {\n",
       "        vertical-align: top;\n",
       "    }\n",
       "\n",
       "    .dataframe thead th {\n",
       "        text-align: right;\n",
       "    }\n",
       "</style>\n",
       "<table border=\"1\" class=\"dataframe\">\n",
       "  <thead>\n",
       "    <tr style=\"text-align: right;\">\n",
       "      <th></th>\n",
       "      <th>W</th>\n",
       "      <th>R</th>\n",
       "      <th>AB</th>\n",
       "      <th>H</th>\n",
       "      <th>2B</th>\n",
       "      <th>3B</th>\n",
       "      <th>HR</th>\n",
       "      <th>BB</th>\n",
       "      <th>SO</th>\n",
       "      <th>SB</th>\n",
       "      <th>RA</th>\n",
       "      <th>ER</th>\n",
       "      <th>ERA</th>\n",
       "      <th>CG</th>\n",
       "      <th>SHO</th>\n",
       "      <th>SV</th>\n",
       "      <th>E</th>\n",
       "    </tr>\n",
       "  </thead>\n",
       "  <tbody>\n",
       "    <tr>\n",
       "      <th>count</th>\n",
       "      <td>30.000000</td>\n",
       "      <td>30.000000</td>\n",
       "      <td>30.000000</td>\n",
       "      <td>30.000000</td>\n",
       "      <td>30.000000</td>\n",
       "      <td>30.000000</td>\n",
       "      <td>30.000000</td>\n",
       "      <td>30.000000</td>\n",
       "      <td>30.00000</td>\n",
       "      <td>30.000000</td>\n",
       "      <td>30.000000</td>\n",
       "      <td>30.000000</td>\n",
       "      <td>30.000000</td>\n",
       "      <td>30.000000</td>\n",
       "      <td>30.000000</td>\n",
       "      <td>30.000000</td>\n",
       "      <td>30.000000</td>\n",
       "    </tr>\n",
       "    <tr>\n",
       "      <th>mean</th>\n",
       "      <td>80.966667</td>\n",
       "      <td>688.233333</td>\n",
       "      <td>5516.266667</td>\n",
       "      <td>1403.533333</td>\n",
       "      <td>274.733333</td>\n",
       "      <td>31.300000</td>\n",
       "      <td>163.633333</td>\n",
       "      <td>469.100000</td>\n",
       "      <td>1248.20000</td>\n",
       "      <td>83.500000</td>\n",
       "      <td>688.233333</td>\n",
       "      <td>635.833333</td>\n",
       "      <td>3.956333</td>\n",
       "      <td>3.466667</td>\n",
       "      <td>11.300000</td>\n",
       "      <td>43.066667</td>\n",
       "      <td>94.333333</td>\n",
       "    </tr>\n",
       "    <tr>\n",
       "      <th>std</th>\n",
       "      <td>10.453455</td>\n",
       "      <td>58.761754</td>\n",
       "      <td>70.467372</td>\n",
       "      <td>57.140923</td>\n",
       "      <td>18.095405</td>\n",
       "      <td>10.452355</td>\n",
       "      <td>31.823309</td>\n",
       "      <td>57.053725</td>\n",
       "      <td>103.75947</td>\n",
       "      <td>22.815225</td>\n",
       "      <td>72.108005</td>\n",
       "      <td>70.140786</td>\n",
       "      <td>0.454089</td>\n",
       "      <td>2.763473</td>\n",
       "      <td>4.120177</td>\n",
       "      <td>7.869335</td>\n",
       "      <td>13.958889</td>\n",
       "    </tr>\n",
       "    <tr>\n",
       "      <th>min</th>\n",
       "      <td>63.000000</td>\n",
       "      <td>573.000000</td>\n",
       "      <td>5385.000000</td>\n",
       "      <td>1324.000000</td>\n",
       "      <td>236.000000</td>\n",
       "      <td>13.000000</td>\n",
       "      <td>100.000000</td>\n",
       "      <td>375.000000</td>\n",
       "      <td>973.00000</td>\n",
       "      <td>44.000000</td>\n",
       "      <td>525.000000</td>\n",
       "      <td>478.000000</td>\n",
       "      <td>2.940000</td>\n",
       "      <td>0.000000</td>\n",
       "      <td>4.000000</td>\n",
       "      <td>28.000000</td>\n",
       "      <td>75.000000</td>\n",
       "    </tr>\n",
       "    <tr>\n",
       "      <th>25%</th>\n",
       "      <td>74.000000</td>\n",
       "      <td>651.250000</td>\n",
       "      <td>5464.000000</td>\n",
       "      <td>1363.000000</td>\n",
       "      <td>262.250000</td>\n",
       "      <td>23.000000</td>\n",
       "      <td>140.250000</td>\n",
       "      <td>428.250000</td>\n",
       "      <td>1157.50000</td>\n",
       "      <td>69.000000</td>\n",
       "      <td>636.250000</td>\n",
       "      <td>587.250000</td>\n",
       "      <td>3.682500</td>\n",
       "      <td>1.000000</td>\n",
       "      <td>9.000000</td>\n",
       "      <td>37.250000</td>\n",
       "      <td>86.000000</td>\n",
       "    </tr>\n",
       "    <tr>\n",
       "      <th>50%</th>\n",
       "      <td>81.000000</td>\n",
       "      <td>689.000000</td>\n",
       "      <td>5510.000000</td>\n",
       "      <td>1382.500000</td>\n",
       "      <td>275.500000</td>\n",
       "      <td>31.000000</td>\n",
       "      <td>158.500000</td>\n",
       "      <td>473.000000</td>\n",
       "      <td>1261.50000</td>\n",
       "      <td>83.500000</td>\n",
       "      <td>695.500000</td>\n",
       "      <td>644.500000</td>\n",
       "      <td>4.025000</td>\n",
       "      <td>3.000000</td>\n",
       "      <td>12.000000</td>\n",
       "      <td>42.000000</td>\n",
       "      <td>91.000000</td>\n",
       "    </tr>\n",
       "    <tr>\n",
       "      <th>75%</th>\n",
       "      <td>87.750000</td>\n",
       "      <td>718.250000</td>\n",
       "      <td>5570.000000</td>\n",
       "      <td>1451.500000</td>\n",
       "      <td>288.750000</td>\n",
       "      <td>39.000000</td>\n",
       "      <td>177.000000</td>\n",
       "      <td>501.250000</td>\n",
       "      <td>1311.50000</td>\n",
       "      <td>96.500000</td>\n",
       "      <td>732.500000</td>\n",
       "      <td>679.250000</td>\n",
       "      <td>4.220000</td>\n",
       "      <td>5.750000</td>\n",
       "      <td>13.000000</td>\n",
       "      <td>46.750000</td>\n",
       "      <td>96.750000</td>\n",
       "    </tr>\n",
       "    <tr>\n",
       "      <th>max</th>\n",
       "      <td>100.000000</td>\n",
       "      <td>891.000000</td>\n",
       "      <td>5649.000000</td>\n",
       "      <td>1515.000000</td>\n",
       "      <td>308.000000</td>\n",
       "      <td>49.000000</td>\n",
       "      <td>232.000000</td>\n",
       "      <td>570.000000</td>\n",
       "      <td>1518.00000</td>\n",
       "      <td>134.000000</td>\n",
       "      <td>844.000000</td>\n",
       "      <td>799.000000</td>\n",
       "      <td>5.040000</td>\n",
       "      <td>11.000000</td>\n",
       "      <td>21.000000</td>\n",
       "      <td>62.000000</td>\n",
       "      <td>126.000000</td>\n",
       "    </tr>\n",
       "  </tbody>\n",
       "</table>\n",
       "</div>"
      ],
      "text/plain": [
       "                W           R           AB            H          2B  \\\n",
       "count   30.000000   30.000000    30.000000    30.000000   30.000000   \n",
       "mean    80.966667  688.233333  5516.266667  1403.533333  274.733333   \n",
       "std     10.453455   58.761754    70.467372    57.140923   18.095405   \n",
       "min     63.000000  573.000000  5385.000000  1324.000000  236.000000   \n",
       "25%     74.000000  651.250000  5464.000000  1363.000000  262.250000   \n",
       "50%     81.000000  689.000000  5510.000000  1382.500000  275.500000   \n",
       "75%     87.750000  718.250000  5570.000000  1451.500000  288.750000   \n",
       "max    100.000000  891.000000  5649.000000  1515.000000  308.000000   \n",
       "\n",
       "              3B          HR          BB          SO          SB          RA  \\\n",
       "count  30.000000   30.000000   30.000000    30.00000   30.000000   30.000000   \n",
       "mean   31.300000  163.633333  469.100000  1248.20000   83.500000  688.233333   \n",
       "std    10.452355   31.823309   57.053725   103.75947   22.815225   72.108005   \n",
       "min    13.000000  100.000000  375.000000   973.00000   44.000000  525.000000   \n",
       "25%    23.000000  140.250000  428.250000  1157.50000   69.000000  636.250000   \n",
       "50%    31.000000  158.500000  473.000000  1261.50000   83.500000  695.500000   \n",
       "75%    39.000000  177.000000  501.250000  1311.50000   96.500000  732.500000   \n",
       "max    49.000000  232.000000  570.000000  1518.00000  134.000000  844.000000   \n",
       "\n",
       "               ER        ERA         CG        SHO         SV           E  \n",
       "count   30.000000  30.000000  30.000000  30.000000  30.000000   30.000000  \n",
       "mean   635.833333   3.956333   3.466667  11.300000  43.066667   94.333333  \n",
       "std     70.140786   0.454089   2.763473   4.120177   7.869335   13.958889  \n",
       "min    478.000000   2.940000   0.000000   4.000000  28.000000   75.000000  \n",
       "25%    587.250000   3.682500   1.000000   9.000000  37.250000   86.000000  \n",
       "50%    644.500000   4.025000   3.000000  12.000000  42.000000   91.000000  \n",
       "75%    679.250000   4.220000   5.750000  13.000000  46.750000   96.750000  \n",
       "max    799.000000   5.040000  11.000000  21.000000  62.000000  126.000000  "
      ]
     },
     "execution_count": 10,
     "metadata": {},
     "output_type": "execute_result"
    }
   ],
   "source": [
    "df.describe()"
   ]
  },
  {
   "cell_type": "markdown",
   "id": "adfbc7f2",
   "metadata": {},
   "source": [
    "MEAN value and 50% values are almost same in given Columns, However in 'R','H','2B','HR','SO','SB','RA,'ER'& 'E' certailn outliers could be present as the 75% and the max value has a high difference"
   ]
  },
  {
   "cell_type": "markdown",
   "id": "324c4231",
   "metadata": {},
   "source": [
    "Checking for unique elements in each of the columns"
   ]
  },
  {
   "cell_type": "code",
   "execution_count": 11,
   "id": "26411105",
   "metadata": {},
   "outputs": [
    {
     "data": {
      "text/plain": [
       "W      24\n",
       "R      28\n",
       "AB     29\n",
       "H      29\n",
       "2B     22\n",
       "3B     23\n",
       "HR     27\n",
       "BB     29\n",
       "SO     29\n",
       "SB     27\n",
       "RA     30\n",
       "ER     30\n",
       "ERA    30\n",
       "CG      9\n",
       "SHO    12\n",
       "SV     20\n",
       "E      21\n",
       "dtype: int64"
      ]
     },
     "execution_count": 11,
     "metadata": {},
     "output_type": "execute_result"
    }
   ],
   "source": [
    "df.nunique()"
   ]
  },
  {
   "cell_type": "markdown",
   "id": "4390360d",
   "metadata": {},
   "source": [
    "# This is a Regression Problem since the Target variable / Label column (\"W\") has Continuous type of Data.\n",
    "Interpreting Relationship between Dependent and Independent Variables\n"
   ]
  },
  {
   "cell_type": "markdown",
   "id": "65517338",
   "metadata": {},
   "source": [
    "# Analyzing the Target Variable"
   ]
  },
  {
   "cell_type": "code",
   "execution_count": 12,
   "id": "17bd480d",
   "metadata": {},
   "outputs": [
    {
     "data": {
      "text/plain": [
       "<AxesSubplot:xlabel='W', ylabel='Density'>"
      ]
     },
     "execution_count": 12,
     "metadata": {},
     "output_type": "execute_result"
    },
    {
     "data": {
      "image/png": "[encoded data removed]",
      "text/plain": [
       "<Figure size 432x288 with 1 Axes>"
      ]
     },
     "metadata": {
      "needs_background": "light"
     },
     "output_type": "display_data"
    }
   ],
   "source": [
    "sns.distplot(df.W)"
   ]
  },
  {
   "cell_type": "code",
   "execution_count": 13,
   "id": "4a0bd5a3",
   "metadata": {},
   "outputs": [
    {
     "data": {
      "text/plain": [
       "0.047088688953686085"
      ]
     },
     "execution_count": 13,
     "metadata": {},
     "output_type": "execute_result"
    }
   ],
   "source": [
    "df.W.skew()"
   ]
  },
  {
   "cell_type": "markdown",
   "id": "4f7753e7",
   "metadata": {},
   "source": [
    "From the graph above it is observed that the W data forms a continuous Normal distribution with mean of 80.966.\n",
    "\n"
   ]
  },
  {
   "cell_type": "markdown",
   "id": "9d79cb02",
   "metadata": {},
   "source": [
    "# Analyzing the Feature Columns"
   ]
  },
  {
   "cell_type": "code",
   "execution_count": 14,
   "id": "6fddb3cf",
   "metadata": {},
   "outputs": [
    {
     "data": {
      "image/png": "[encoded data removed]",
      "text/plain": [
       "<Figure size 1440x1800 with 16 Axes>"
      ]
     },
     "metadata": {},
     "output_type": "display_data"
    }
   ],
   "source": [
    "plt.figure(figsize=(20,25),facecolor='white')\n",
    "plotnum=1\n",
    "for col in df.drop(columns=['W']):\n",
    "    if plotnum<=17:\n",
    "        plt.subplot(5,5,plotnum)\n",
    "        sns.distplot(df[col])\n",
    "        plt.xlabel(col,fontsize=20)\n",
    "    plotnum+=1\n",
    "plt.show()    "
   ]
  },
  {
   "cell_type": "markdown",
   "id": "9ff0343c",
   "metadata": {},
   "source": [
    "From the above Graph, it's obseved that most of the data are normally distributes, however in'R','H','CG','E','SV' are rightly skewed"
   ]
  },
  {
   "cell_type": "code",
   "execution_count": 15,
   "id": "45bfc55b",
   "metadata": {},
   "outputs": [
    {
     "data": {
      "text/plain": [
       "W      0.047089\n",
       "R      1.200786\n",
       "AB     0.183437\n",
       "H      0.670254\n",
       "2B    -0.230650\n",
       "3B     0.129502\n",
       "HR     0.516441\n",
       "BB     0.158498\n",
       "SO    -0.156065\n",
       "SB     0.479893\n",
       "RA     0.045734\n",
       "ER     0.058710\n",
       "ERA    0.053331\n",
       "CG     0.736845\n",
       "SHO    0.565790\n",
       "SV     0.657524\n",
       "E      0.890132\n",
       "dtype: float64"
      ]
     },
     "execution_count": 15,
     "metadata": {},
     "output_type": "execute_result"
    }
   ],
   "source": [
    "df.skew()"
   ]
  },
  {
   "cell_type": "markdown",
   "id": "5112dc08",
   "metadata": {},
   "source": [
    "# Interpreting Relationship between Dependent and Independent Variables"
   ]
  },
  {
   "cell_type": "code",
   "execution_count": 16,
   "id": "a96d7357",
   "metadata": {},
   "outputs": [
    {
     "data": {
      "image/png": "[encoded data removed]",
      "text/plain": [
       "<Figure size 1440x1800 with 16 Axes>"
      ]
     },
     "metadata": {},
     "output_type": "display_data"
    }
   ],
   "source": [
    "plt.figure(figsize=(20,25),facecolor='white')\n",
    "plotnum=1\n",
    "X  = df.drop(columns=['W'])\n",
    "y = df['W']\n",
    "for col in X:\n",
    "    if plotnum<=16:\n",
    "        plt.subplot(5,5,plotnum)\n",
    "        sns.lineplot(X[col],y)\n",
    "        plt.xlabel(col,fontsize=20)\n",
    "        plt.ylabel('Wins',fontsize=20)\n",
    "    plotnum+=1\n",
    "plt.tight_layout()"
   ]
  },
  {
   "cell_type": "markdown",
   "id": "50fdb3e1",
   "metadata": {},
   "source": [
    "From the above graph we obseved that 'RA','ER','ERA', are having a negative linear relationship with 'W', while Features like R,2B,HR,BB,SV,SHO have positive linear relationship with 'W'"
   ]
  },
  {
   "cell_type": "code",
   "execution_count": null,
   "id": "dbfd10ad",
   "metadata": {},
   "outputs": [],
   "source": [
    "sns.lmplot(x='R', y='W', data=df)"
   ]
  },
  {
   "cell_type": "code",
   "execution_count": null,
   "id": "363b2d9b",
   "metadata": {},
   "outputs": [],
   "source": [
    "sns.lmplot(x='2B', y='W',data=df)"
   ]
  },
  {
   "cell_type": "code",
   "execution_count": null,
   "id": "6bbedcf6",
   "metadata": {},
   "outputs": [],
   "source": [
    "sns.lmplot(x='HR',y='W',data=df)"
   ]
  },
  {
   "cell_type": "code",
   "execution_count": null,
   "id": "5f75ca85",
   "metadata": {},
   "outputs": [],
   "source": [
    "sns.lmplot(x='BB',y='W',data=df)"
   ]
  },
  {
   "cell_type": "code",
   "execution_count": null,
   "id": "1ffcb62d",
   "metadata": {},
   "outputs": [],
   "source": [
    "sns.lmplot(x='SV',y='W',data=df)"
   ]
  },
  {
   "cell_type": "code",
   "execution_count": null,
   "id": "294c5473",
   "metadata": {},
   "outputs": [],
   "source": [
    "sns.lmplot(x='SHO', y='W',data=df)"
   ]
  },
  {
   "cell_type": "code",
   "execution_count": null,
   "id": "9222f4a1",
   "metadata": {},
   "outputs": [],
   "source": [
    "sns.lmplot(x='RA',y='W',data=df)"
   ]
  },
  {
   "cell_type": "code",
   "execution_count": null,
   "id": "df0b936b",
   "metadata": {},
   "outputs": [],
   "source": [
    "sns.lmplot(x='ERA',y='W',data=df)"
   ]
  },
  {
   "cell_type": "code",
   "execution_count": null,
   "id": "8bfdf036",
   "metadata": {},
   "outputs": [],
   "source": [
    "sns.lmplot(x='ER',y='W',data=df)"
   ]
  },
  {
   "cell_type": "markdown",
   "id": "965a5e8a",
   "metadata": {},
   "source": [
    "# CHecking Outliers in Features"
   ]
  },
  {
   "cell_type": "code",
   "execution_count": null,
   "id": "279f98b1",
   "metadata": {},
   "outputs": [],
   "source": [
    "plt.figure(figsize=(20,22),facecolor='white')\n",
    "plotnum=1\n",
    "for col in df.drop(columns=['W'],axis=1):\n",
    "    if plotnum<=16:\n",
    "        plt.subplot(5,5,plotnum)\n",
    "        sns.boxplot(df[col])\n",
    "        plt.xlabel(col,fontsize=20)\n",
    "        plotnum+=1\n",
    "plt.show()"
   ]
  },
  {
   "cell_type": "markdown",
   "id": "5c303cb8",
   "metadata": {},
   "source": [
    "It's observed that 'R','ERA','SHO','SV','E' are having outliers"
   ]
  },
  {
   "cell_type": "markdown",
   "id": "f2f6f1df",
   "metadata": {},
   "source": [
    "# REMOVING OUTLIERS BY USING Z-SCORE"
   ]
  },
  {
   "cell_type": "code",
   "execution_count": null,
   "id": "3cf10df7",
   "metadata": {},
   "outputs": [],
   "source": [
    "df2 =df.drop(columns = ['W'],axis=1).copy() \n",
    "df2"
   ]
  },
  {
   "cell_type": "code",
   "execution_count": null,
   "id": "d8295634",
   "metadata": {},
   "outputs": [],
   "source": [
    "from scipy.stats import zscore\n",
    "S=zscore(df2)\n",
    "Z_abs=np.abs(S)\n",
    "\n",
    "df3=df2[(Z_abs<3).all(axis=1)]"
   ]
  },
  {
   "cell_type": "code",
   "execution_count": null,
   "id": "a384b5ff",
   "metadata": {},
   "outputs": [],
   "source": [
    "df3.shape"
   ]
  },
  {
   "cell_type": "code",
   "execution_count": null,
   "id": "e7b0249d",
   "metadata": {},
   "outputs": [],
   "source": [
    "df2.shape"
   ]
  },
  {
   "cell_type": "markdown",
   "id": "dfed4647",
   "metadata": {},
   "source": [
    "# Data loss%"
   ]
  },
  {
   "cell_type": "code",
   "execution_count": null,
   "id": "6d36c075",
   "metadata": {},
   "outputs": [],
   "source": [
    "loss=(30-29)/30*100\n",
    "loss"
   ]
  },
  {
   "cell_type": "markdown",
   "id": "5a52adab",
   "metadata": {},
   "source": [
    "# IQR METHOD"
   ]
  },
  {
   "cell_type": "code",
   "execution_count": null,
   "id": "419fdcef",
   "metadata": {},
   "outputs": [],
   "source": [
    "df1=df.drop(columns=['W'],axis=1).copy() #making a copy of all feature columns."
   ]
  },
  {
   "cell_type": "code",
   "execution_count": null,
   "id": "62947c1c",
   "metadata": {},
   "outputs": [],
   "source": [
    "l=np.array([])\n",
    "for col in df1:\n",
    "    q1=df1[col].quantile(0.25)\n",
    "    q2=df1[col].quantile(0.75)\n",
    "    iqr=q2-q1\n",
    "    upperval=q2+(1.5*iqr)\n",
    "    lowerval=q1-(1.5*iqr)\n",
    "    col=df1[col]\n",
    "    indx=col[(col>upperval)| (col<lowerval)].index\n",
    "    l=np.append(l,indx)"
   ]
  },
  {
   "cell_type": "code",
   "execution_count": null,
   "id": "383607b1",
   "metadata": {},
   "outputs": [],
   "source": [
    "l"
   ]
  },
  {
   "cell_type": "code",
   "execution_count": null,
   "id": "0f4253db",
   "metadata": {},
   "outputs": [],
   "source": [
    "df4=df1.drop(l)\n",
    "df1"
   ]
  },
  {
   "cell_type": "code",
   "execution_count": null,
   "id": "172a516d",
   "metadata": {},
   "outputs": [],
   "source": [
    "df4.shape"
   ]
  },
  {
   "cell_type": "code",
   "execution_count": null,
   "id": "c0da5619",
   "metadata": {},
   "outputs": [],
   "source": [
    "#Data loss\n",
    "loss=(30-20)/30*100\n",
    "loss"
   ]
  },
  {
   "cell_type": "markdown",
   "id": "92d6430d",
   "metadata": {},
   "source": [
    "33.33% data loss is not acceptable"
   ]
  },
  {
   "cell_type": "markdown",
   "id": "d485ad26",
   "metadata": {},
   "source": [
    "# Therefore, Using Z score method to reduce outliers"
   ]
  },
  {
   "cell_type": "code",
   "execution_count": null,
   "id": "c35e04f2",
   "metadata": {},
   "outputs": [],
   "source": [
    "dropindex=df.index.difference(df3.index)"
   ]
  },
  {
   "cell_type": "code",
   "execution_count": null,
   "id": "3e278b91",
   "metadata": {},
   "outputs": [],
   "source": [
    "df.drop(dropindex,inplace=True) # #dropping the outliers from original features Dataframe"
   ]
  },
  {
   "cell_type": "code",
   "execution_count": null,
   "id": "a1bbf4ac",
   "metadata": {},
   "outputs": [],
   "source": [
    "df.reset_index(drop=True,inplace=True)# #resetting the index of the dataframe"
   ]
  },
  {
   "cell_type": "code",
   "execution_count": null,
   "id": "80c5c768",
   "metadata": {},
   "outputs": [],
   "source": [
    "df.shape"
   ]
  },
  {
   "cell_type": "code",
   "execution_count": null,
   "id": "19c9e543",
   "metadata": {},
   "outputs": [],
   "source": [
    "df"
   ]
  },
  {
   "cell_type": "code",
   "execution_count": null,
   "id": "c7c114dc",
   "metadata": {},
   "outputs": [],
   "source": [
    "plt.figure(figsize=(20,25),facecolor='white')\n",
    "plotnum=1\n",
    "for col in df.drop(columns=['W'],axis=1):\n",
    "    if plotnum<=16:\n",
    "        plt.subplot(5,5,plotnum)\n",
    "        sns.boxplot(df[col])\n",
    "        plt.xlabel(col,fontsize=20)\n",
    "        plotnum+=1\n",
    "plt.show()       "
   ]
  },
  {
   "cell_type": "markdown",
   "id": "df4ded6e",
   "metadata": {},
   "source": [
    "Some of the outliers has been removed"
   ]
  },
  {
   "cell_type": "code",
   "execution_count": null,
   "id": "49d32568",
   "metadata": {},
   "outputs": [],
   "source": [
    "df.skew()"
   ]
  },
  {
   "cell_type": "markdown",
   "id": "f154866c",
   "metadata": {},
   "source": [
    "Still some amout of Outliers are present in E, CG, H, and SV"
   ]
  },
  {
   "cell_type": "markdown",
   "id": "38fef030",
   "metadata": {},
   "source": [
    "# Finding Co-Relation"
   ]
  },
  {
   "cell_type": "code",
   "execution_count": null,
   "id": "566b42f4",
   "metadata": {},
   "outputs": [],
   "source": [
    "df_corr=df.corr()\n",
    "df_corr"
   ]
  },
  {
   "cell_type": "code",
   "execution_count": null,
   "id": "434c2d6a",
   "metadata": {},
   "outputs": [],
   "source": [
    "plt.figure(figsize=(20,22))\n",
    "sns.heatmap(df_corr,annot=True,linewidth=1, cmap='RdYlGn')\n",
    "plt.show()"
   ]
  },
  {
   "cell_type": "markdown",
   "id": "5fceabd9",
   "metadata": {},
   "source": [
    "We can observe that there is a very high correlation between features ER,ERA,RA.\n",
    "\n"
   ]
  },
  {
   "cell_type": "markdown",
   "id": "9bc866de",
   "metadata": {},
   "source": [
    "# Visualizing correlation of feature columns with label column."
   ]
  },
  {
   "cell_type": "code",
   "execution_count": null,
   "id": "940e4e84",
   "metadata": {},
   "outputs": [],
   "source": [
    "plt.figure(figsize=(20,8))\n",
    "df.corr()['W'].sort_values(ascending=False).drop(['W']).plot(kind='bar',color='c')\n",
    "plt.xlabel('Features',fontsize=15)\n",
    "plt.ylabel(\"W\",fontsize=15)\n",
    "plt.title('correlation', fontsize=18)\n",
    "plt.show()"
   ]
  },
  {
   "cell_type": "markdown",
   "id": "4865bb34",
   "metadata": {},
   "source": [
    "WE can observe that SV has the highest positive corelation with SHO followed by W, however ERA,RA,ER have the highest negative coorelation with W"
   ]
  },
  {
   "cell_type": "markdown",
   "id": "1cbdfa7d",
   "metadata": {},
   "source": [
    "# Normalizing Data Distribution using PowerTransformer"
   ]
  },
  {
   "cell_type": "code",
   "execution_count": null,
   "id": "bb1e2981",
   "metadata": {},
   "outputs": [],
   "source": [
    "from sklearn.preprocessing import PowerTransformer"
   ]
  },
  {
   "cell_type": "code",
   "execution_count": null,
   "id": "78f64ad0",
   "metadata": {},
   "outputs": [],
   "source": [
    "powertrans=PowerTransformer(method='yeo-johnson',standardize=True)"
   ]
  },
  {
   "cell_type": "code",
   "execution_count": null,
   "id": "4c6a2f26",
   "metadata": {},
   "outputs": [],
   "source": [
    "skewed=['E','CG','SV']"
   ]
  },
  {
   "cell_type": "code",
   "execution_count": null,
   "id": "48a37141",
   "metadata": {},
   "outputs": [],
   "source": [
    "df5=df[skewed].copy()"
   ]
  },
  {
   "cell_type": "code",
   "execution_count": null,
   "id": "83af3349",
   "metadata": {},
   "outputs": [],
   "source": [
    "df5"
   ]
  },
  {
   "cell_type": "code",
   "execution_count": null,
   "id": "f556d438",
   "metadata": {},
   "outputs": [],
   "source": [
    "(df==0).sum()"
   ]
  },
  {
   "cell_type": "code",
   "execution_count": null,
   "id": "e71b3d4a",
   "metadata": {},
   "outputs": [],
   "source": [
    "transformed=powertrans.fit_transform(df5)"
   ]
  },
  {
   "cell_type": "code",
   "execution_count": null,
   "id": "b6a381e0",
   "metadata": {},
   "outputs": [],
   "source": [
    "type(transformed)\n"
   ]
  },
  {
   "cell_type": "code",
   "execution_count": null,
   "id": "cf55b999",
   "metadata": {},
   "outputs": [],
   "source": [
    "transformed=pd.DataFrame(transformed,columns=df5.columns)"
   ]
  },
  {
   "cell_type": "code",
   "execution_count": null,
   "id": "f9abd81a",
   "metadata": {},
   "outputs": [],
   "source": [
    "transformed.skew()"
   ]
  },
  {
   "cell_type": "code",
   "execution_count": null,
   "id": "f307f0b8",
   "metadata": {},
   "outputs": [],
   "source": [
    "(transformed==0).sum()"
   ]
  },
  {
   "cell_type": "code",
   "execution_count": null,
   "id": "c0d05fd7",
   "metadata": {},
   "outputs": [],
   "source": [
    "transformed.sum=df.sum"
   ]
  },
  {
   "cell_type": "code",
   "execution_count": null,
   "id": "3c775792",
   "metadata": {},
   "outputs": [],
   "source": [
    "df[skewed]=transformed[skewed]"
   ]
  },
  {
   "cell_type": "code",
   "execution_count": null,
   "id": "bbc07114",
   "metadata": {},
   "outputs": [],
   "source": [
    "df.skew()"
   ]
  },
  {
   "cell_type": "markdown",
   "id": "769087f3",
   "metadata": {},
   "source": [
    "a lot of skewness has been removed"
   ]
  },
  {
   "cell_type": "code",
   "execution_count": null,
   "id": "6ff55fea",
   "metadata": {},
   "outputs": [],
   "source": [
    "plt.figure(figsize=(20,25),facecolor='white')\n",
    "plotnum=1\n",
    "for col in df.drop(columns=['W']):\n",
    "    if plotnum<=16:\n",
    "        plt.subplot(5,5,plotnum)\n",
    "        sns.distplot(df[col])\n",
    "        plt.xlabel(col,fontsize=30)\n",
    "        plotnum+=1\n",
    "plt.show()        "
   ]
  },
  {
   "cell_type": "markdown",
   "id": "dce0e52e",
   "metadata": {},
   "source": [
    "Data Distribution looks much more normalised now"
   ]
  },
  {
   "cell_type": "markdown",
   "id": "5ecc5b1b",
   "metadata": {},
   "source": [
    "# FEATURE SELECTION"
   ]
  },
  {
   "cell_type": "code",
   "execution_count": null,
   "id": "e84d480e",
   "metadata": {},
   "outputs": [],
   "source": [
    "from sklearn.preprocessing import StandardScaler"
   ]
  },
  {
   "cell_type": "code",
   "execution_count": null,
   "id": "5bf35e7d",
   "metadata": {},
   "outputs": [],
   "source": [
    "x=df.drop(columns=['W'])\n",
    "y=df['W']"
   ]
  },
  {
   "cell_type": "code",
   "execution_count": null,
   "id": "aa4a8369",
   "metadata": {},
   "outputs": [],
   "source": [
    "scaler=StandardScaler()"
   ]
  },
  {
   "cell_type": "code",
   "execution_count": null,
   "id": "ecd51fcb",
   "metadata": {},
   "outputs": [],
   "source": [
    "scaled=scaler.fit_transform(x)\n"
   ]
  },
  {
   "cell_type": "markdown",
   "id": "614079bc",
   "metadata": {},
   "source": [
    "# Checking for Multicollinearity using Variance Inflation Factor"
   ]
  },
  {
   "cell_type": "code",
   "execution_count": null,
   "id": "46240f34",
   "metadata": {},
   "outputs": [],
   "source": [
    "from statsmodels.stats.outliers_influence import variance_inflation_factor"
   ]
  },
  {
   "cell_type": "code",
   "execution_count": null,
   "id": "5f28d1d5",
   "metadata": {},
   "outputs": [],
   "source": [
    "vif=pd.DataFrame()"
   ]
  },
  {
   "cell_type": "code",
   "execution_count": null,
   "id": "66985022",
   "metadata": {},
   "outputs": [],
   "source": [
    "vif['Features']=x.columns\n",
    "vif['vif']=[variance_inflation_factor(scaled,i)for i in range(scaled.shape[1])]"
   ]
  },
  {
   "cell_type": "code",
   "execution_count": null,
   "id": "74990a30",
   "metadata": {},
   "outputs": [],
   "source": [
    "vif"
   ]
  },
  {
   "cell_type": "markdown",
   "id": "dca97102",
   "metadata": {},
   "source": [
    "R,ER and ERA have the highest multicollinearity amongst all the features."
   ]
  },
  {
   "cell_type": "markdown",
   "id": "f5153ea7",
   "metadata": {},
   "source": [
    "# Principle Component Analysis"
   ]
  },
  {
   "cell_type": "code",
   "execution_count": null,
   "id": "b2dc3208",
   "metadata": {},
   "outputs": [],
   "source": [
    "from sklearn.decomposition import PCA"
   ]
  },
  {
   "cell_type": "code",
   "execution_count": null,
   "id": "80b23ed9",
   "metadata": {},
   "outputs": [],
   "source": [
    "pca=PCA()\n",
    "prniciplecomponenets=pca.fit_transform(scaled)\n",
    "plt.figure()\n",
    "plt.plot(np.cumsum(pca.explained_variance_ratio_))\n",
    "plt.xlabel('priciple component analysis')\n",
    "plt.ylabel('Value')\n",
    "plt.show()"
   ]
  },
  {
   "cell_type": "code",
   "execution_count": null,
   "id": "47599a2b",
   "metadata": {},
   "outputs": [],
   "source": [
    "pca=PCA(n_components=14)\n",
    "new=pca.fit_transform(scaled)\n",
    "new_value=pd.DataFrame(new,columns=np.arange(14))\n",
    "new_value"
   ]
  },
  {
   "cell_type": "markdown",
   "id": "28eba370",
   "metadata": {},
   "source": [
    "# Selecting Kbest Features"
   ]
  },
  {
   "cell_type": "code",
   "execution_count": null,
   "id": "d8f4e380",
   "metadata": {},
   "outputs": [],
   "source": [
    "from sklearn.feature_selection import SelectKBest,f_classif"
   ]
  },
  {
   "cell_type": "code",
   "execution_count": null,
   "id": "2b71d277",
   "metadata": {},
   "outputs": [],
   "source": [
    "bestfeat=SelectKBest(score_func= f_classif,k=16)\n",
    "fit=bestfeat.fit(x,y)\n",
    "dfscore=pd.DataFrame(fit.scores_)\n",
    "dfcolumns=pd.DataFrame(x.columns)"
   ]
  },
  {
   "cell_type": "code",
   "execution_count": null,
   "id": "e899aece",
   "metadata": {},
   "outputs": [],
   "source": [
    "fit=bestfeat.fit(x,y)\n",
    "dfscore=pd.DataFrame(fit.scores_)\n",
    "dfcolumns=pd.DataFrame(x.columns)\n",
    "featurescore=pd.concat([dfcolumns,dfscore],axis=1)\n",
    "featurescore.columns=['Feature','Score']\n",
    "print(featurescore.nlargest(22,'Score'))"
   ]
  },
  {
   "cell_type": "code",
   "execution_count": null,
   "id": "1c600d96",
   "metadata": {},
   "outputs": [],
   "source": [
    "bf_x_best =x.drop(columns = ['ERA','CG']).copy()\n"
   ]
  },
  {
   "cell_type": "code",
   "execution_count": null,
   "id": "4dc7994b",
   "metadata": {},
   "outputs": [],
   "source": [
    "ss_x_best = scaler.fit_transform(bf_x_best)"
   ]
  },
  {
   "cell_type": "markdown",
   "id": "0abf30a2",
   "metadata": {},
   "source": [
    "The Data to be predicted in Target / Label column is continuous in nature since it is the number of Wins. Therefore Regression Models will be used."
   ]
  },
  {
   "cell_type": "markdown",
   "id": "89d0b0fc",
   "metadata": {},
   "source": [
    "# Regression Model Building"
   ]
  },
  {
   "cell_type": "code",
   "execution_count": null,
   "id": "d59e0bcc",
   "metadata": {},
   "outputs": [],
   "source": [
    "from sklearn.metrics import r2_score\n",
    "from sklearn.model_selection import train_test_split"
   ]
  },
  {
   "cell_type": "markdown",
   "id": "e721541a",
   "metadata": {},
   "source": [
    "# Finding the Best Random State\n"
   ]
  },
  {
   "cell_type": "code",
   "execution_count": null,
   "id": "375a5c5a",
   "metadata": {},
   "outputs": [],
   "source": [
    "from sklearn.linear_model import Lasso\n",
    "maxAcc=0\n",
    "maxRS=0\n",
    "for i in range(0,100):\n",
    "    x_train,x_test,y_train,y_test=train_test_split(ss_x_best,y,test_size=.20,random_state=i)\n",
    "    model=Lasso()\n",
    "    model.fit(x_train,y_train)\n",
    "    pred=model.predict(x_test)\n",
    "    acc=r2_score(pred,y_test)\n",
    "    if acc>maxAcc:\n",
    "        maxAcc=acc\n",
    "        maxRS=i\n",
    "print(f\"Best Accuracy is: {maxAcc} on random_state: {maxRS}\")\n",
    "      "
   ]
  },
  {
   "cell_type": "code",
   "execution_count": null,
   "id": "0c8c02fa",
   "metadata": {},
   "outputs": [],
   "source": [
    "x_train,x_test,y_train,y_test = train_test_split(ss_x_best,y,test_size = .23, random_state = 54)"
   ]
  },
  {
   "cell_type": "code",
   "execution_count": null,
   "id": "c3bc7d6b",
   "metadata": {},
   "outputs": [],
   "source": [
    "!pip3 install xgboost"
   ]
  },
  {
   "cell_type": "code",
   "execution_count": null,
   "id": "9ba29961",
   "metadata": {},
   "outputs": [],
   "source": [
    "from sklearn.model_selection import GridSearchCV\n",
    "from sklearn.linear_model import Lasso,Ridge\n",
    "from sklearn.ensemble import RandomForestClassifier,AdaBoostRegressor\n",
    "from sklearn.svm import SVR\n",
    "from sklearn.metrics import r2_score, mean_squared_error,mean_absolute_error\n",
    "from xgboost import XGBRegressor"
   ]
  },
  {
   "cell_type": "code",
   "execution_count": null,
   "id": "3231531b",
   "metadata": {},
   "outputs": [],
   "source": [
    "rf=RandomForestClassifier()\n",
    "xg=XGBRegressor()\n",
    "l=Lasso()\n",
    "ri=Ridge()\n",
    "SV=SVR\n",
    "adb = AdaBoostRegressor()"
   ]
  },
  {
   "cell_type": "markdown",
   "id": "ce869fa5",
   "metadata": {},
   "source": [
    "# Traning the models"
   ]
  },
  {
   "cell_type": "code",
   "execution_count": null,
   "id": "db0357c5",
   "metadata": {},
   "outputs": [],
   "source": [
    "rf.fit(x_train,y_train)\n",
    "xg.fit(x_train,y_train)\n",
    "ri.fit(x_train,y_train)\n",
    "l.fit(x_train,y_train)\n",
    "adb.fit(x_train,y_train)"
   ]
  },
  {
   "cell_type": "markdown",
   "id": "f3ef65c9",
   "metadata": {},
   "source": [
    "# All models have been trained."
   ]
  },
  {
   "cell_type": "markdown",
   "id": "eadc784d",
   "metadata": {},
   "source": [
    "# Ridge Regression Model"
   ]
  },
  {
   "cell_type": "code",
   "execution_count": null,
   "id": "1a74ad92",
   "metadata": {},
   "outputs": [],
   "source": [
    "pred=ri.predict(x_test)"
   ]
  },
  {
   "cell_type": "markdown",
   "id": "d9f9179e",
   "metadata": {},
   "source": [
    "# R2_Score"
   ]
  },
  {
   "cell_type": "code",
   "execution_count": null,
   "id": "c50ce333",
   "metadata": {},
   "outputs": [],
   "source": [
    "r2_score(pred,y_test)"
   ]
  },
  {
   "cell_type": "markdown",
   "id": "684ae0ec",
   "metadata": {},
   "source": [
    "# mean_sqaured_error"
   ]
  },
  {
   "cell_type": "code",
   "execution_count": null,
   "id": "0ebcce14",
   "metadata": {},
   "outputs": [],
   "source": [
    "mean_squared_error(y_test,pred)"
   ]
  },
  {
   "cell_type": "markdown",
   "id": "b648ef3e",
   "metadata": {},
   "source": [
    "# Random Forest Model"
   ]
  },
  {
   "cell_type": "code",
   "execution_count": null,
   "id": "10b4e889",
   "metadata": {},
   "outputs": [],
   "source": [
    "pred=rf.predict(x_test)"
   ]
  },
  {
   "cell_type": "markdown",
   "id": "3fe9245f",
   "metadata": {},
   "source": [
    "# R2 SCORE"
   ]
  },
  {
   "cell_type": "code",
   "execution_count": null,
   "id": "266409be",
   "metadata": {},
   "outputs": [],
   "source": [
    "r2_score(pred,y_test)"
   ]
  },
  {
   "cell_type": "markdown",
   "id": "1d6f5cca",
   "metadata": {},
   "source": [
    "# Mean squared Error"
   ]
  },
  {
   "cell_type": "code",
   "execution_count": null,
   "id": "3418a1c2",
   "metadata": {},
   "outputs": [],
   "source": [
    "mean_squared_error(y_test,pred)"
   ]
  },
  {
   "cell_type": "markdown",
   "id": "8cc0fb77",
   "metadata": {},
   "source": [
    "# Lasso Regression Model"
   ]
  },
  {
   "cell_type": "code",
   "execution_count": null,
   "id": "3e497754",
   "metadata": {},
   "outputs": [],
   "source": [
    "pred=l.predict(x_test)"
   ]
  },
  {
   "cell_type": "markdown",
   "id": "1ef520e5",
   "metadata": {},
   "source": [
    "# R2 SCORE"
   ]
  },
  {
   "cell_type": "code",
   "execution_count": null,
   "id": "11dfb1e7",
   "metadata": {},
   "outputs": [],
   "source": [
    "r2_score(y_test,pred)"
   ]
  },
  {
   "cell_type": "markdown",
   "id": "cd8db0e0",
   "metadata": {},
   "source": [
    "# Mean sqaured Error"
   ]
  },
  {
   "cell_type": "code",
   "execution_count": null,
   "id": "7c6d7021",
   "metadata": {},
   "outputs": [],
   "source": [
    "mean_squared_error(pred,y_test)"
   ]
  },
  {
   "cell_type": "markdown",
   "id": "66ac0390",
   "metadata": {},
   "source": [
    "# XGB Regression Model"
   ]
  },
  {
   "cell_type": "code",
   "execution_count": null,
   "id": "f27784cc",
   "metadata": {},
   "outputs": [],
   "source": [
    "pred=xg.predict(x_test)"
   ]
  },
  {
   "cell_type": "markdown",
   "id": "59a6057f",
   "metadata": {},
   "source": [
    "# R2 SCORE"
   ]
  },
  {
   "cell_type": "code",
   "execution_count": null,
   "id": "565c2af8",
   "metadata": {},
   "outputs": [],
   "source": [
    "r2_score(y_test,pred)"
   ]
  },
  {
   "cell_type": "markdown",
   "id": "6f86d800",
   "metadata": {},
   "source": [
    "# Mean squared Error"
   ]
  },
  {
   "cell_type": "code",
   "execution_count": null,
   "id": "e7c7a6fe",
   "metadata": {},
   "outputs": [],
   "source": [
    "mean_squared_error(pred,y_test)"
   ]
  },
  {
   "cell_type": "markdown",
   "id": "c11f7c02",
   "metadata": {},
   "source": [
    "# AdaBoost Regression Model\n"
   ]
  },
  {
   "cell_type": "code",
   "execution_count": null,
   "id": "a6451a30",
   "metadata": {},
   "outputs": [],
   "source": [
    "pred=adb.predict(x_test)"
   ]
  },
  {
   "cell_type": "markdown",
   "id": "c995756a",
   "metadata": {},
   "source": [
    "# R2 SCORE"
   ]
  },
  {
   "cell_type": "code",
   "execution_count": null,
   "id": "9ca16b7f",
   "metadata": {},
   "outputs": [],
   "source": [
    "r2_score(pred,y_test)"
   ]
  },
  {
   "cell_type": "markdown",
   "id": "9038b5c1",
   "metadata": {},
   "source": [
    "# Mean squared Error"
   ]
  },
  {
   "cell_type": "code",
   "execution_count": null,
   "id": "2fdee03c",
   "metadata": {},
   "outputs": [],
   "source": [
    "mean_squared_error(pred,y_test)"
   ]
  },
  {
   "cell_type": "markdown",
   "id": "5f823b43",
   "metadata": {},
   "source": [
    "# Model Cross Validation"
   ]
  },
  {
   "cell_type": "code",
   "execution_count": null,
   "id": "0333f2a5",
   "metadata": {},
   "outputs": [],
   "source": [
    "from sklearn.model_selection import cross_val_score\n",
    "from sklearn.model_selection import ShuffleSplit,cross_val_score,KFold\n"
   ]
  },
  {
   "cell_type": "markdown",
   "id": "75ff5bc7",
   "metadata": {},
   "source": [
    "# FOR RIDGE REGRESSION"
   ]
  },
  {
   "cell_type": "code",
   "execution_count": null,
   "id": "e882e9ff",
   "metadata": {},
   "outputs": [],
   "source": [
    "cross_val_score(ri,ss_x_best,y,cv=4).mean()"
   ]
  },
  {
   "cell_type": "markdown",
   "id": "72938c7e",
   "metadata": {},
   "source": [
    "# For Lasso Regression"
   ]
  },
  {
   "cell_type": "code",
   "execution_count": null,
   "id": "19004451",
   "metadata": {},
   "outputs": [],
   "source": [
    "cross_val_score(l,ss_x_best,y,cv=4).mean()"
   ]
  },
  {
   "cell_type": "markdown",
   "id": "50be388d",
   "metadata": {},
   "source": [
    "# FOR XGB BOOST"
   ]
  },
  {
   "cell_type": "code",
   "execution_count": null,
   "id": "360d62f7",
   "metadata": {},
   "outputs": [],
   "source": [
    "cross_val_score(xg,ss_x_best,y,cv=4).mean()"
   ]
  },
  {
   "cell_type": "markdown",
   "id": "f93fb4f8",
   "metadata": {},
   "source": [
    "# For ADA Boost"
   ]
  },
  {
   "cell_type": "code",
   "execution_count": null,
   "id": "2e74870a",
   "metadata": {},
   "outputs": [],
   "source": [
    "cross_val_score(adb,ss_x_best,y,cv=4).mean()"
   ]
  },
  {
   "cell_type": "markdown",
   "id": "6bf6f1bd",
   "metadata": {},
   "source": [
    "# Based on comparing Accuracy Score results with Cross Validation results, it is determined that Lasso Regression is the best model. It also has the lowest Root Mean Squared Error score"
   ]
  },
  {
   "cell_type": "markdown",
   "id": "b1c767d4",
   "metadata": {},
   "source": [
    "# Hyper Parameter Tuning\n"
   ]
  },
  {
   "cell_type": "markdown",
   "id": "d2873c60",
   "metadata": {},
   "source": [
    "# Lasso Regression"
   ]
  },
  {
   "cell_type": "code",
   "execution_count": null,
   "id": "ec0eddb8",
   "metadata": {},
   "outputs": [],
   "source": [
    "parameter = {'alpha':np.array([5,0.5,0.05,0.005,0.0005,1,0.1,0.01,0.001,0.0001,0]),'fit_intercept': [True,False],'normalize':[True,False],'max_iter':[1000,2000,3000],'random_state':np.arange(100),'selection':[\"cyclic\",\"random\"]}\n"
   ]
  },
  {
   "cell_type": "code",
   "execution_count": null,
   "id": "991f41eb",
   "metadata": {},
   "outputs": [],
   "source": [
    "GridCV = GridSearchCV(Lasso(),parameter,cv=5,n_jobs = -1,verbose = 1)\n"
   ]
  },
  {
   "cell_type": "code",
   "execution_count": null,
   "id": "ec7eee05",
   "metadata": {},
   "outputs": [],
   "source": [
    "GridCV.fit(x_train,y_train)\n"
   ]
  },
  {
   "cell_type": "code",
   "execution_count": null,
   "id": "75a6380b",
   "metadata": {},
   "outputs": [],
   "source": [
    "GridCV.best_params_\n"
   ]
  },
  {
   "cell_type": "code",
   "execution_count": null,
   "id": "665935b7",
   "metadata": {},
   "outputs": [],
   "source": [
    "Best_mod = Lasso(alpha = 1, fit_intercept= True, normalize = False,max_iter = 1000, random_state = 15,selection ='random')\n"
   ]
  },
  {
   "cell_type": "code",
   "execution_count": null,
   "id": "c5df033c",
   "metadata": {},
   "outputs": [],
   "source": [
    "Best_mod.fit(x_train,y_train)"
   ]
  },
  {
   "cell_type": "code",
   "execution_count": null,
   "id": "d8a16d55",
   "metadata": {},
   "outputs": [],
   "source": [
    "lpred = Best_mod.predict(x_test)\n",
    "acc = r2_score(y_test,lpred)\n",
    "print(acc*100)"
   ]
  },
  {
   "cell_type": "markdown",
   "id": "9e24ee38",
   "metadata": {},
   "source": [
    "# Saving The Model\n"
   ]
  },
  {
   "cell_type": "code",
   "execution_count": null,
   "id": "37af49bf",
   "metadata": {},
   "outputs": [],
   "source": [
    "import joblib\n",
    "joblib.dump(Best_mod,\"BestBaseballModel.pkl\")"
   ]
  },
  {
   "cell_type": "code",
   "execution_count": null,
   "id": "9f2295ed",
   "metadata": {},
   "outputs": [],
   "source": [
    "mod=joblib.load(\"BestBaseballModel.pkl\")\n"
   ]
  },
  {
   "cell_type": "code",
   "execution_count": null,
   "id": "e68c6bbb",
   "metadata": {},
   "outputs": [],
   "source": [
    "print(mod.predict(x_test))\n"
   ]
  },
  {
   "cell_type": "code",
   "execution_count": null,
   "id": "58bfaf50",
   "metadata": {},
   "outputs": [],
   "source": [
    "plt.figure(figsize=(10,10))\n",
    "plt.scatter(y_test, lpred, c='red')\n",
    "plt.yscale('linear')\n",
    "plt.xscale('linear')\n",
    "\n",
    "p1 = max(max(lpred), max(y_test))\n",
    "p2 = min(min(lpred), min(y_test))\n",
    "plt.plot([p1, p2], [p1, p2], 'b-')\n",
    "plt.xlabel('Actual Values', fontsize=15)\n",
    "plt.ylabel('Predictions', fontsize=15)\n",
    "plt.axis('equal')\n",
    "plt.show()\n"
   ]
  },
  {
   "cell_type": "code",
   "execution_count": null,
   "id": "866a80f7",
   "metadata": {},
   "outputs": [],
   "source": []
  },
  {
   "cell_type": "code",
   "execution_count": null,
   "id": "bcd67bfc",
   "metadata": {},
   "outputs": [],
   "source": []
  },
  {
   "cell_type": "code",
   "execution_count": null,
   "id": "94c0461e",
   "metadata": {},
   "outputs": [],
   "source": []
  },
  {
   "cell_type": "code",
   "execution_count": null,
   "id": "be829cf2",
   "metadata": {},
   "outputs": [],
   "source": []
  },
  {
   "cell_type": "code",
   "execution_count": null,
   "id": "0c6244e4",
   "metadata": {},
   "outputs": [],
   "source": []
  },
  {
   "cell_type": "code",
   "execution_count": null,
   "id": "36077c75",
   "metadata": {},
   "outputs": [],
   "source": []
  },
  {
   "cell_type": "code",
   "execution_count": null,
   "id": "30122b63",
   "metadata": {},
   "outputs": [],
   "source": []
  },
  {
   "cell_type": "code",
   "execution_count": null,
   "id": "c425801c",
   "metadata": {},
   "outputs": [],
   "source": []
  },
  {
   "cell_type": "code",
   "execution_count": null,
   "id": "12823e9f",
   "metadata": {},
   "outputs": [],
   "source": []
  },
  {
   "cell_type": "code",
   "execution_count": null,
   "id": "c1f2aa6c",
   "metadata": {},
   "outputs": [],
   "source": []
  },
  {
   "cell_type": "code",
   "execution_count": null,
   "id": "6a5f22fb",
   "metadata": {},
   "outputs": [],
   "source": []
  },
  {
   "cell_type": "code",
   "execution_count": null,
   "id": "9f8afc7f",
   "metadata": {},
   "outputs": [],
   "source": []
  },
  {
   "cell_type": "code",
   "execution_count": null,
   "id": "d75bbdb6",
   "metadata": {},
   "outputs": [],
   "source": []
  },
  {
   "cell_type": "code",
   "execution_count": null,
   "id": "681984d6",
   "metadata": {},
   "outputs": [],
   "source": []
  },
  {
   "cell_type": "code",
   "execution_count": null,
   "id": "abc21302",
   "metadata": {},
   "outputs": [],
   "source": []
  },
  {
   "cell_type": "code",
   "execution_count": null,
   "id": "4f45a550",
   "metadata": {},
   "outputs": [],
   "source": []
  },
  {
   "cell_type": "code",
   "execution_count": null,
   "id": "ed9fd2c5",
   "metadata": {},
   "outputs": [],
   "source": []
  },
  {
   "cell_type": "code",
   "execution_count": null,
   "id": "90ff9ab5",
   "metadata": {},
   "outputs": [],
   "source": []
  },
  {
   "cell_type": "code",
   "execution_count": null,
   "id": "534f2008",
   "metadata": {},
   "outputs": [],
   "source": []
  },
  {
   "cell_type": "code",
   "execution_count": null,
   "id": "5d686594",
   "metadata": {},
   "outputs": [],
   "source": []
  },
  {
   "cell_type": "code",
   "execution_count": null,
   "id": "e279a356",
   "metadata": {},
   "outputs": [],
   "source": []
  },
  {
   "cell_type": "code",
   "execution_count": null,
   "id": "5a4f2b5a",
   "metadata": {},
   "outputs": [],
   "source": []
  }
 ],
 "metadata": {
  "kernelspec": {
   "display_name": "Python 3 (ipykernel)",
   "language": "python",
   "name": "python3"
  },
  "language_info": {
   "codemirror_mode": {
    "name": "ipython",
    "version": 3
   },
   "file_extension": ".py",
   "mimetype": "text/x-python",
   "name": "python",
   "nbconvert_exporter": "python",
   "pygments_lexer": "ipython3",
   "version": "3.9.7"
  }
 },
 "nbformat": 4,
 "nbformat_minor": 5
}
